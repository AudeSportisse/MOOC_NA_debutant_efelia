{
 "cells": [
  {
   "cell_type": "markdown",
   "metadata": {
    "id": "3CCepSSRTNsq"
   },
   "source": [
    "# Travaux pratiques 2"
   ]
  },
  {
   "cell_type": "markdown",
   "metadata": {
    "id": "xPkiMROxnL0y"
   },
   "source": [
    "Vous avez découvert dans le TP précédent le jeu de données `ozone`, qui contient des valeurs manquantes. Dans ce TP, vous allez manipuler différentes méthodes d'imputation, pour prédire les valeurs manquantes et obtenir un jeu de données complet. Vous allez d'abord utiliser l'algorithme des $k$ plus proches voisins, puis des forêts aléatoires. Enfin, vous appliquerez une analyse en composantes principales, qui permet de traiter les valeurs manquantes et d'obtenir une meilleure représentation des données."
   ]
  },
  {
   "cell_type": "markdown",
   "metadata": {
    "id": "y-UKylgPTP8X"
   },
   "source": [
    "# Chargement des librairies"
   ]
  },
  {
   "cell_type": "code",
   "execution_count": null,
   "metadata": {
    "id": "JorRBAtSuA4C"
   },
   "outputs": [],
   "source": [
    "library(VIM) # Pour la visualisation des données manquantes, et inclut une fonction d'imputation par plus-proches-voisins\n",
    "library(randomForest) # Pour l'exemple simple sur les forêts aléatoires\n",
    "library(missForest) # Fonction d'imputation par forêts aléatoires\n",
    "library(missMDA) # Fonction d'imputation par ACP pour données continues et données mixtes\n",
    "library(FactoMineR) # Représentation de l'ACP"
   ]
  },
  {
   "cell_type": "markdown",
   "metadata": {
    "id": "XtdxEZGuvMpa"
   },
   "source": [
    "# Chargement des données"
   ]
  },
  {
   "cell_type": "markdown",
   "metadata": {
    "id": "cAy4kNSQ6ghL"
   },
   "source": [
    "Vous allez utiliser le jeu de données `ozone` du package `missMDA`, que vous avez déjà découvert dans le TP1. Pour rappel, ce jeu de données est composé de 112 mesures atmosphériques prises au niveau du sol à intervalles quotidiens, à Rennes (France) pendant l'été 2001, de début juin à fin septembre."
   ]
  },
  {
   "cell_type": "code",
   "execution_count": null,
   "metadata": {
    "id": "8JG4hf0zvPl8"
   },
   "outputs": [],
   "source": [
    "data(ozone) # chargement des données\n",
    "head(ozone) # affichage des 6 premières lignes"
   ]
  },
  {
   "cell_type": "markdown",
   "metadata": {
    "id": "KCmc8bNJ8e2n"
   },
   "source": [
    "## Question 1"
   ]
  },
  {
   "cell_type": "markdown",
   "metadata": {
    "id": "tW1zwQsK8g9f"
   },
   "source": [
    "Comme dans le TP1, on utilise le package `VIM` pour visualiser les valeurs manquantes dans le jeu de données `ozone`. On affiche également les pourcentages de valeurs manquantes par variables. Y a-t-il des valeurs manquantes dans toutes les variables ? Quelle est la variable qui contient le plus de valeurs manquantes ?"
   ]
  },
  {
   "cell_type": "code",
   "execution_count": null,
   "metadata": {
    "id": "aqUV2EuO8f20"
   },
   "outputs": [],
   "source": [
    "a <- aggr(ozone, plot = FALSE)\n",
    "par(bg = \"white\") # définit le fond en blanc\n",
    "plot(a, numbers = TRUE, prop = FALSE)"
   ]
  },
  {
   "cell_type": "code",
   "execution_count": null,
   "metadata": {
    "id": "V4KhnGELA94k"
   },
   "outputs": [],
   "source": [
    "a$missings[\"Percentage\"] <- a$missings$Count / dim(ozone)[1]\n",
    "a$missings"
   ]
  },
  {
   "cell_type": "markdown",
   "metadata": {
    "id": "DvG4G3QL-Ivd",
    "jp-MarkdownHeadingCollapsed": true
   },
   "source": [
    "### Solution"
   ]
  },
  {
   "cell_type": "markdown",
   "metadata": {
    "id": "ijI9KfmM-KPv"
   },
   "source": [
    "Il y a des valeurs manquantes dans toutes les variables. Celle qui en contient le plus est la variable `T15`, la température à 15 heures, avec un pourcentage de valeurs manquantes à 17%."
   ]
  },
  {
   "cell_type": "markdown",
   "metadata": {
    "id": "yTPj0vh86xw6"
   },
   "source": [
    "## Question 2"
   ]
  },
  {
   "cell_type": "markdown",
   "metadata": {
    "id": "8tsRahmZ6zYP"
   },
   "source": [
    "Vous verrez dans la suite qu'il y a certaines méthodes d'imputation qui ne gèrent pas les données mixtes, lorsqu'il y a des variables continues et catégorielles. Dans le jeu de données `ozone`, y a-t-il des variables catégorielles ?"
   ]
  },
  {
   "cell_type": "markdown",
   "metadata": {
    "id": "EJH6ogsT65-R",
    "jp-MarkdownHeadingCollapsed": true
   },
   "source": [
    "### Solution"
   ]
  },
  {
   "cell_type": "markdown",
   "metadata": {
    "id": "SHBu6Pnh680Y"
   },
   "source": [
    "Dans le jeu de données `ozone`, les 11 premières variables sont continues. Les deux dernières variables, nommées `vent` et `pluie`, sont catégorielles; elles indiquent respectivement l'orientation du vent et la présence de pluie."
   ]
  },
  {
   "cell_type": "markdown",
   "metadata": {
    "id": "6RrzRCCOM1SS"
   },
   "source": [
    "Dans un premier temps, vous restreindrez votre analyse sur les variables continues. Dans un second temps (dernière partie du TP), vous appliquerez les méthodes d'imputation à tout le jeu de données (variables catégorielles inclues)."
   ]
  },
  {
   "cell_type": "code",
   "execution_count": null,
   "metadata": {
    "id": "UnhY9jGsNUMq"
   },
   "outputs": [],
   "source": [
    "ozone.mixt <- ozone\n",
    "ozone <- ozone[, 1:11]"
   ]
  },
  {
   "cell_type": "markdown",
   "metadata": {
    "id": "gc1Cfqg6IQJb"
   },
   "source": [
    "# Mesure de la qualité de la prédiction des valeurs manquantes"
   ]
  },
  {
   "cell_type": "markdown",
   "metadata": {
    "id": "venm8yAoIlsk"
   },
   "source": [
    "Dans la suite du TP, vous allez appliquer différentes méthodes d'imputation pour prédire les valeurs manquantes. Une des premières questions à se poser est de savoir comment quantifier la qualité de la prédiction.\n",
    "\n",
    "L'erreur quadratique moyenne (EQM) permet de calculer la distance entre les valeurs prédites ($X^{\\text{imp}}_{ij}$) et les valeurs ($X_{ij}$), comme suit:\n",
    "\n",
    "$$\\text{EQM}(X^{\\text{imp}},X)=\\frac{1}{n} \\sum_{i=1}^n \\sum_{j=1}^d (X^{\\text{imp}}_{ij}-X_{ij})^2$$\n",
    "\n",
    "Si on a deux tableaux, l'un imputé pour $X^{\\text{imp}}$ et l'autre initial $X$, cette mesure compare les tableaux valeur par valeur (par exemple, $X^{\\text{imp}}_{11}$ avec $X_{11}$ pour la première ligne/première colonne) et additionne finalement le tout.\n",
    "\n",
    "En pratique, le problème est que vous n'avez pas accès aux valeurs ($X_{ij}$) qui se cachent derrière les `NA` de votre jeu de données."
   ]
  },
  {
   "cell_type": "markdown",
   "metadata": {
    "id": "qdUk3ZMUBKPs"
   },
   "source": [
    "## Question 3"
   ]
  },
  {
   "cell_type": "markdown",
   "metadata": {
    "id": "Oql1isXqBLRQ"
   },
   "source": [
    "Que proposez-vous ? Vous pouvez reprendre la dernière partie intitulée *Score de référence* du TP précédent."
   ]
  },
  {
   "cell_type": "markdown",
   "metadata": {
    "id": "FiIQ5UWfBMip",
    "jp-MarkdownHeadingCollapsed": true
   },
   "source": [
    "### Solution"
   ]
  },
  {
   "cell_type": "markdown",
   "metadata": {
    "id": "iWu7tUIaBOza"
   },
   "source": [
    "Une solution consiste à générer de nouvelles valeurs manquantes pour obtenir un jeu de données *amputé*. Ces nouvelles valeurs manquantes sont factices, et on peut calculer une erreur de prédiction en comparant la valeur prédite par la méthode d'imputation à la vraie valeur, qui est connue."
   ]
  },
  {
   "cell_type": "markdown",
   "metadata": {
    "id": "45I29KVUMi_m"
   },
   "source": [
    "Dans la cellule de code suivante, nous créons un jeu de données ozone *amputé*, appelé `ozone.addNA`, de la même manière que dans le TP1, en introduisant de nouvelles valeurs manquantes selon les patterns les plus fréquents."
   ]
  },
  {
   "cell_type": "code",
   "execution_count": null,
   "metadata": {
    "id": "g-50ZOz1OiSH"
   },
   "outputs": [],
   "source": [
    "set.seed(1)\n",
    "ozone.full <- na.omit(ozone) # jeu de données avec seulement les lignes complètes\n",
    "n.full.rows <- dim(ozone.full)[1]\n",
    "\n",
    "# Patterns les plus fréquents\n",
    "a <- aggr(ozone, plot = FALSE)\n",
    "idx.frequent.pattern <- sort(a$percent, index.return = TRUE, decreasing = TRUE)\n",
    "frequent.pattern <- matrix(0,nrow=5,ncol=dim(ozone)[2])\n",
    "for (i in 1:5) {\n",
    "  frequent.pattern[i,] <- a$tabcomb[idx.frequent.pattern$ix[i], ]\n",
    "}\n",
    "colnames(frequent.pattern)=colnames(ozone)\n",
    "frequent.pattern <- frequent.pattern[-1,]\n",
    "pattern.indices <- sample(1:nrow(frequent.pattern), size = n.full.rows, replace = TRUE) # on sélectionne les patterns\n",
    "\n",
    "# Jeu de données ozone amputé\n",
    "c <- 0\n",
    "ozone.addNA <- ozone\n",
    "for (i in 1:dim(ozone)[1]) {\n",
    "  if (sum(is.na(ozone[i,]))==0){\n",
    "    c <- c+1\n",
    "    pattern <- frequent.pattern[pattern.indices[c], ]\n",
    "    ozone.addNA[i, pattern == 1] <- NA\n",
    "  }\n",
    "}\n"
   ]
  },
  {
   "cell_type": "markdown",
   "metadata": {
    "id": "bZh-Oh2qPdUF"
   },
   "source": [
    "Vous pouvez observez que le pourcentage de valeurs manquantes a bien augmenté pour certaines variables dans le jeu de données amputé."
   ]
  },
  {
   "cell_type": "code",
   "execution_count": null,
   "metadata": {
    "id": "loktpYzjPceW"
   },
   "outputs": [],
   "source": [
    "a <- aggr(ozone.addNA, plot = FALSE)\n",
    "par(bg = \"white\") # définit le fond en blanc\n",
    "plot(a, numbers = TRUE, prop = FALSE)\n",
    "\n",
    "a$missings[\"Percentage\"] <- a$missings$Count / dim(ozone.addNA)[1]\n",
    "a$missings"
   ]
  },
  {
   "cell_type": "markdown",
   "metadata": {
    "id": "snpqSb1KPPnC"
   },
   "source": [
    "La fonction de calcul de l'erreur quadratique moyenne est implémentée ci-dessous."
   ]
  },
  {
   "cell_type": "code",
   "execution_count": null,
   "metadata": {
    "id": "_2FHvdurPXAT"
   },
   "outputs": [],
   "source": [
    "mse <- function(xtrue, ximp){\n",
    "  1/length(xtrue) * sum((ximp-xtrue)**2, na.rm = TRUE)\n",
    "}"
   ]
  },
  {
   "cell_type": "markdown",
   "metadata": {
    "id": "qi7vMhew4qxO"
   },
   "source": [
    "# Imputation par l'algorithme des $k$ plus proches voisins"
   ]
  },
  {
   "cell_type": "markdown",
   "metadata": {
    "id": "Xl8soIMJvEKB"
   },
   "source": [
    "## Question 4: un exemple simple"
   ]
  },
  {
   "cell_type": "markdown",
   "metadata": {
    "id": "0di_6ON8TvOi"
   },
   "source": [
    "Prenons la première ligne du jeu de données `ozone.addNA`, qui correspond à la première mesure."
   ]
  },
  {
   "cell_type": "code",
   "execution_count": null,
   "metadata": {
    "id": "QwpLeh8RmXab"
   },
   "outputs": [],
   "source": [
    "ozone.addNA[1, ]"
   ]
  },
  {
   "cell_type": "markdown",
   "metadata": {
    "id": "v13Q2TMNmX2g"
   },
   "source": [
    "La seule variable manquante est la nébulosité à 15 heures (`Ne15`). L'idée va être de prédire cette valeur avec une valeur aggrégée sur les $k$ plus proches voisins de la mesure 1.\n",
    "\n",
    "Ces plus proches voisins vont être choisis en calculant une distance entre deux mesures du jeu de données. On peut choisir la distance euclidienne, détaillée ci-dessous, qui permet de comparer deux mesures ($X_{i.}$ et $X_{\\ell.}$), car les variables sont toutes continues.\n",
    "\n",
    "$$d(X_{i.},X_{\\ell.})=\\sum_{j=1}^d (X_{ij}-X_{\\ell j})^2$$\n",
    "\n",
    "On calcule terme à terme la différence des valeurs entre la mesure $X_{i.}$ et la mesure $X_{\\ell.}$.\n",
    "\n",
    "Par exemple, si $X_{i.}=(1 \\quad 2)$ et $X_{\\ell.}=(1 \\quad 0)$, le calcul détaillé est le suivant: $d(X_{i.},X_{\\ell.})=(1-1)^2+(2-0)^2=0+2^2=4$."
   ]
  },
  {
   "cell_type": "markdown",
   "metadata": {
    "id": "pFjVdPgbC-5X"
   },
   "source": [
    "### Question 4a"
   ]
  },
  {
   "cell_type": "markdown",
   "metadata": {
    "id": "xvQNuTzfvG5A"
   },
   "source": [
    "Dans le jeu de données `ozone`, peut-on simplement calculer la distance euclidienne de la première mesure avec toutes les autres ? Quelle peut-être une solution naïve ?"
   ]
  },
  {
   "cell_type": "markdown",
   "metadata": {
    "id": "WsmKkU63vSMF",
    "jp-MarkdownHeadingCollapsed": true
   },
   "source": [
    "### Solution"
   ]
  },
  {
   "cell_type": "markdown",
   "metadata": {
    "id": "E0Iwg2WcvTTs"
   },
   "source": [
    "Comme il y a des valeurs manquantes, on ne peut pas calculer la distance euclidienne. Une solution naïve est de calculer les distances euclidiennes en ne comptant que les variables qui sont observées pour les deux mesures.\n",
    "\n",
    "Par exemple, si $X_{i.}=(1 \\quad \\text{NA} \\quad 3)$ et $X_{\\ell.}=(\\text{NA} \\quad 2 \\quad 2)$, le calcul ne prend en compte que le dernier terme: $d(X_{i.},X_{\\ell.})=(3-2)^2=1$.\n",
    "\n",
    "C'est ce qui est implémenté dans la méthode d'imputation par les plus proches voisins.\n",
    "\n",
    "On va également calculer ces distances euclidiennes parmis les mesures qui ont une nébulosité à 15 heures observée, car nous utiliserons cette information par la suite."
   ]
  },
  {
   "cell_type": "code",
   "execution_count": null,
   "metadata": {
    "id": "DCjP1_rLeuC0"
   },
   "outputs": [],
   "source": [
    "ozone.Ne15.comp <- ozone.addNA[!is.na(ozone.addNA$Ne15), ]\n",
    "dist.eucl <- c()\n",
    "for (i in 2:dim(ozone.Ne15.comp)[1]){\n",
    "  dist.eucl <- c(dist.eucl,sum((ozone.addNA[1, ] - ozone.Ne15.comp[i, ])**2, na.rm=TRUE))\n",
    "}"
   ]
  },
  {
   "cell_type": "markdown",
   "metadata": {
    "id": "lRVcFS1xE5WU"
   },
   "source": [
    "### Question 4b"
   ]
  },
  {
   "cell_type": "markdown",
   "metadata": {
    "id": "pWvDlF-SE4TT"
   },
   "source": [
    "Les $k$-plus-proches voisins de la mesure 1 sont donc les mesures avec les plus petites distances euclidiennes. Prenons $k=5$, cela correspond aux mesures suivantes (mesures 13, 11, 2, 72 et 42)."
   ]
  },
  {
   "cell_type": "code",
   "execution_count": null,
   "metadata": {
    "id": "mD9uhMESFhvr"
   },
   "outputs": [],
   "source": [
    "dist.eucl.ord <- order(dist.eucl) + 1\n",
    "dist.eucl.ord[1:5]"
   ]
  },
  {
   "cell_type": "markdown",
   "metadata": {
    "id": "P61i8DBvF2op"
   },
   "source": [
    "Pour prédire la nébulosité à 15 heures sur la mesure 1, on va utiliser les nébulosité à 15 heures de ces mesures proches, en aggrégant leurs valeurs (par exemple, avec la médiane)."
   ]
  },
  {
   "cell_type": "code",
   "execution_count": null,
   "metadata": {
    "id": "bdJGADe1HId2"
   },
   "outputs": [],
   "source": [
    "knn.values <- c()\n",
    "for (i in 1:5){\n",
    "  knn.values <- c(knn.values, ozone.Ne15.comp[dist.eucl.ord[i], ]$Ne15)\n",
    "}\n",
    "median(knn.values)"
   ]
  },
  {
   "cell_type": "markdown",
   "metadata": {
    "id": "i4MfSQeRHKx5"
   },
   "source": [
    "La valeur prédite pour la nébulosité à 15 heures sur la mesure 1 sera donc 6."
   ]
  },
  {
   "cell_type": "markdown",
   "metadata": {
    "id": "uUk1trkqR6qr"
   },
   "source": [
    "Dans cette méthode d'imputation, quel va-être l'hyperparamètre, c'est-à-dire le paramètre à choisir par l'utilisateur ? Est-ce un choix qui peut avoir une influence sur les résultats ?"
   ]
  },
  {
   "cell_type": "markdown",
   "metadata": {
    "id": "g1bALWNBHQ67",
    "jp-MarkdownHeadingCollapsed": true
   },
   "source": [
    "### Solution"
   ]
  },
  {
   "cell_type": "markdown",
   "metadata": {
    "id": "JkmTyuu-HR2F"
   },
   "source": [
    "L'hyperparamètre est le nombre $k$ de plus proches voisins. Il a une influence sur les résultats. Par exemple, si nous prenons $k=3$, la valeur prédite est 7."
   ]
  },
  {
   "cell_type": "code",
   "execution_count": null,
   "metadata": {
    "id": "OWBNlJ8aJAyE"
   },
   "outputs": [],
   "source": [
    "knn.values <- c()\n",
    "for (i in 1:3) {\n",
    "  knn.values <- c(knn.values, ozone.Ne15.comp[dist.eucl.ord[i], ]$Ne15)\n",
    "}\n",
    "median(knn.values)"
   ]
  },
  {
   "cell_type": "markdown",
   "metadata": {
    "id": "Al3KwSoBJIDS"
   },
   "source": [
    "Nous n'allons pas détailler cette méthode ici, mais une stratégie est de choisir $k$ en effectuant une validation croisée."
   ]
  },
  {
   "cell_type": "markdown",
   "metadata": {
    "id": "oPZOoWykJyVJ"
   },
   "source": [
    "## Question 5: application de l'algorithme"
   ]
  },
  {
   "cell_type": "markdown",
   "metadata": {
    "id": "ZYaH3rUrJ4Bs"
   },
   "source": [
    "Cette méthode d'imputation est implémentée dans la fonction `kNN` du package `VIM`. Le code suivant permet d'obtenir un jeu de données complet."
   ]
  },
  {
   "cell_type": "code",
   "execution_count": null,
   "metadata": {
    "id": "4g1ncQp5R277"
   },
   "outputs": [],
   "source": [
    "ozone.addNA.kNN <- kNN(ozone.addNA, k = 15, imp_var = FALSE)"
   ]
  },
  {
   "cell_type": "markdown",
   "metadata": {
    "id": "OPPBR50zM2_7"
   },
   "source": [
    "Le graphique ci-dessous représente le nuage de points des valeurs (observées et imputées) pour les variables `T12` et `T15`."
   ]
  },
  {
   "cell_type": "code",
   "execution_count": null,
   "metadata": {
    "id": "jK5XmpbuM4Ts"
   },
   "outputs": [],
   "source": [
    "mask <- is.na(ozone.addNA)\n",
    "\n",
    "plot(ozone.addNA$T12, ozone.addNA$T15, col = \"#d1e5f0\", xlab = \"T12\", ylab = \"T15\")\n",
    "points(ozone.addNA.kNN$T12[mask[, 3] == 1], ozone.addNA.kNN$T15[mask[, 3] == 1], col = \"#2194ac\")\n",
    "points(ozone.addNA.kNN$T12[mask[, 4] == 1], ozone.addNA.kNN$T15[mask[, 4] == 1], col = \"#2138ac\")\n",
    "points(ozone.addNA.kNN$T12[mask[, 3] == 1 & mask[, 4] == 1], ozone.addNA.kNN$T15[mask[, 3] == 1 & mask[, 4] == 1], col = \"#ac6721\")\n",
    "\n",
    "legend(\"bottomright\",\n",
    "       legend = c(\"Complet\", \"X0 imputé\", \"X1 imputé\", \"X0,X1 imputés\"),\n",
    "       col = c(\"#d1e5f0\", \"#2194ac\", \"#2138ac\", \"#ac6721\"),\n",
    "       pch = 16,\n",
    "       bty = \"n\"\n",
    ")"
   ]
  },
  {
   "cell_type": "markdown",
   "metadata": {
    "id": "pFCZ80NWKnOV"
   },
   "source": [
    "Quelle méthode d’imputation simple peut servir de point de comparaison ?"
   ]
  },
  {
   "cell_type": "markdown",
   "metadata": {
    "id": "Os_pLHc1Ldk9",
    "jp-MarkdownHeadingCollapsed": true
   },
   "source": [
    "### Solution"
   ]
  },
  {
   "cell_type": "markdown",
   "metadata": {
    "id": "1RnqA3gcLe2f"
   },
   "source": [
    "On peut comparer avec la méthode d'imputation par la moyenne que vous avez manipulée dans le TP1."
   ]
  },
  {
   "cell_type": "code",
   "execution_count": null,
   "metadata": {
    "id": "yO7fKCNfL0z1"
   },
   "outputs": [],
   "source": [
    "impute.mean <- function(data) { #fonction d'imputation par la moyenne\n",
    "  data.imputed <- data\n",
    "  for (j in 1:11) {\n",
    "    data.imputed[which(is.na(data[, j])), j] <- mean(data[, j], na.rm = TRUE)\n",
    "  }\n",
    "  return(data.imputed)\n",
    "}\n",
    "\n",
    "ozone.addNA.mean <- impute.mean(ozone.addNA)"
   ]
  },
  {
   "cell_type": "code",
   "execution_count": null,
   "metadata": {
    "id": "hYI8CTRINPvU"
   },
   "outputs": [],
   "source": [
    "mask <- is.na(ozone.addNA)\n",
    "\n",
    "plot(ozone.addNA$T12, ozone.addNA$T15, col = \"#d1e5f0\", xlab = \"T12\", ylab = \"T15\")\n",
    "points(ozone.addNA.mean$T12[mask[, 3] == 1], ozone.addNA.mean$T15[mask[, 3] == 1], col = \"#2194ac\")\n",
    "points(ozone.addNA.mean$T12[mask[, 4] == 1], ozone.addNA.mean$T15[mask[, 4] == 1], col = \"#2138ac\")\n",
    "points(ozone.addNA.mean$T12[mask[, 3] == 1 & mask[, 4] == 1], ozone.addNA.mean$T15[mask[, 3] == 1 & mask[, 4] == 1], col = \"#ac6721\")\n",
    "\n",
    "legend(\"bottomright\",\n",
    "  legend = c(\"Complet\", \"X0 imputé\", \"X1 imputé\", \"X0,X1 imputés\"),\n",
    "  col = c(\"#d1e5f0\", \"#2194ac\", \"#2138ac\", \"#ac6721\"),\n",
    "  pch = 16,\n",
    "  bty = \"n\"\n",
    ")"
   ]
  },
  {
   "cell_type": "markdown",
   "metadata": {
    "id": "65S6Q-HrL3mk"
   },
   "source": [
    "Graphiquement, on voit déjà que la méthode d'imputation par les plus proches voisins distord moins la distribution empirique des données. On peut aussi calculer les erreurs quadratiques moyennes."
   ]
  },
  {
   "cell_type": "code",
   "execution_count": null,
   "metadata": {
    "id": "s17QX-61Oxyf"
   },
   "outputs": [],
   "source": [
    "mse(ozone, ozone.addNA.kNN) # EQM de l'imputation par plus proches voisins"
   ]
  },
  {
   "cell_type": "code",
   "execution_count": null,
   "metadata": {
    "id": "jPoE-5OWO6nX"
   },
   "outputs": [],
   "source": [
    "mse(ozone, ozone.addNA.mean) # EQM de l'imputation par la moyenne"
   ]
  },
  {
   "cell_type": "markdown",
   "metadata": {
    "id": "tpJTvekb4vBP"
   },
   "source": [
    "# Imputation itérative basée sur des forêts aléatoires"
   ]
  },
  {
   "cell_type": "markdown",
   "metadata": {
    "id": "drYJkt6DqLwd"
   },
   "source": [
    "Dans cette partie, vous allez apprendre à utiliser une méthode d'imputation plus complexe, qui est itérative et basée sur des forêts aléatoires."
   ]
  },
  {
   "cell_type": "markdown",
   "metadata": {
    "id": "dNmsHjYLESVP"
   },
   "source": [
    "## Question 6: un exemple simple"
   ]
  },
  {
   "cell_type": "markdown",
   "metadata": {
    "id": "yqNioKhkERCU"
   },
   "source": [
    "\n",
    "En initialisation, l'imputation par la moyenne est appliquée au jeu de données. On obtient le jeu de données complet `ozone.init`."
   ]
  },
  {
   "cell_type": "code",
   "execution_count": null,
   "metadata": {
    "id": "1Kmr2Kf_rGI5"
   },
   "outputs": [],
   "source": [
    "ozone.init <- impute.mean(ozone.addNA)"
   ]
  },
  {
   "cell_type": "markdown",
   "metadata": {
    "id": "8VFQnB-rrOsm"
   },
   "source": [
    "Ensuite, pour prédire les valeurs manquantes, l'algorithme *itère* sur les variables. Nous allons illustrer avec un exemple simple la méthode de prédiction basée sur des forêts aléatoires sur la première variable `maxO3`."
   ]
  },
  {
   "cell_type": "markdown",
   "metadata": {
    "id": "NQtDEwwCr5Rp"
   },
   "source": [
    "La première étape consiste à construire un sous-ensemble du jeu de données `ozone.init` avec les mesures pour lesquelles la variable `maxO3` est observée initialement; on appelle ce jeu de données `ozone.maxO3.comp`."
   ]
  },
  {
   "cell_type": "code",
   "execution_count": null,
   "metadata": {
    "id": "bbIxPGoMsHTj"
   },
   "outputs": [],
   "source": [
    "ozone.maxO3.comp <- ozone.init[!is.na(ozone.addNA$maxO3), ]\n",
    "head(ozone.maxO3.comp)"
   ]
  },
  {
   "cell_type": "markdown",
   "metadata": {
    "id": "VEYBApaMr1mG"
   },
   "source": [
    "On crée également le sous-ensemble du jeu de données `ozone.init` avec les mesures pour lesquelles la variable `maxO3` est initialement manquante; on appelle ce jeu de données `ozone.maxO3.miss`."
   ]
  },
  {
   "cell_type": "code",
   "execution_count": null,
   "metadata": {
    "id": "rBiC-BO5CfR5"
   },
   "outputs": [],
   "source": [
    "ozone.maxO3.miss <- ozone.init[is.na(ozone.addNA$maxO3), ]\n",
    "head(ozone.maxO3.miss)"
   ]
  },
  {
   "cell_type": "markdown",
   "metadata": {
    "id": "jLVexQkFDWLd"
   },
   "source": [
    "Notez que les valeurs de la variable `maxO3` sont toutes identiques. C'est tout à fait normal car une imputation par la moyenne a été appliquée pour obtenir `ozone.init` à partir duquel on construit le sous-ensemble du jeu de données."
   ]
  },
  {
   "cell_type": "markdown",
   "metadata": {
    "id": "IY7wn5CDC6TB"
   },
   "source": [
    "### Question 6a"
   ]
  },
  {
   "cell_type": "markdown",
   "metadata": {
    "id": "kk8QT_BCC8LR"
   },
   "source": [
    "Sur quel jeu de données construire une forêt aléatoire pour prédire les valeurs manquantes de la variable `maxO3` à partir des autres ?"
   ]
  },
  {
   "cell_type": "markdown",
   "metadata": {
    "id": "6s-N7VDRD7mo",
    "jp-MarkdownHeadingCollapsed": true
   },
   "source": [
    "### Solution"
   ]
  },
  {
   "cell_type": "markdown",
   "metadata": {
    "id": "j41rsMsjD9Ji"
   },
   "source": [
    "On construit un modèle avec une forêt aléatoire sur le jeu de données `ozone.maxO3.comp` pour prédire la variable `maxO3` en fonction des autres, c'est-à-dire on apprend la fonction $f$ telle que: $\\text{maxO3}=f(\\text{T9, T12, T15, Ne9, Ne12, Ne15, Vx9, Vx12, Vx15, maxO3v})$. Pour utiliser une forêt aléatoire avec 500 arbes (paramètre `ntree`), l'implémentation est la suivante."
   ]
  },
  {
   "cell_type": "code",
   "execution_count": null,
   "metadata": {
    "id": "ex2MK1ibEqQH"
   },
   "outputs": [],
   "source": [
    "modele_rf <- randomForest(maxO3 ~ ., data = ozone.maxO3.comp, ntree = 500)"
   ]
  },
  {
   "cell_type": "markdown",
   "metadata": {
    "id": "MLRC9IjiEv4K"
   },
   "source": [
    "On applique ensuite ce modèle sur le jeu de données `ozone.maxO3.miss` pour prédire les valeurs manquantes de `maxO3`."
   ]
  },
  {
   "cell_type": "code",
   "execution_count": null,
   "metadata": {
    "id": "qukWNoyCGDU5"
   },
   "outputs": [],
   "source": [
    "predict(modele_rf, newdata = ozone.maxO3.miss[, 2:11])"
   ]
  },
  {
   "cell_type": "markdown",
   "metadata": {
    "id": "KZ4HBQYSIoNs"
   },
   "source": [
    "Le jeu de données avec les valeurs prédites pour la variable `maxO3` est appelé `ozone.maxO3.imp1`."
   ]
  },
  {
   "cell_type": "code",
   "execution_count": null,
   "metadata": {
    "id": "shdpQIF7Imyi"
   },
   "outputs": [],
   "source": [
    "ozone.maxO3.imp1 <- ozone.init\n",
    "ozone.maxO3.imp1[is.na(ozone.addNA$maxO3), ]$maxO3 <- predict(modele_rf, newdata = ozone.init[is.na(ozone.addNA$maxO3), 2:11])"
   ]
  },
  {
   "cell_type": "markdown",
   "metadata": {
    "id": "h90YSNAwGbZE"
   },
   "source": [
    "### Question 6b"
   ]
  },
  {
   "cell_type": "markdown",
   "metadata": {
    "id": "OuH0wZezGdjR"
   },
   "source": [
    "L'algorithme passe ensuite à la seconde variable `T9`. Le but est alors de prédire les valeurs manquantes de `T9` en fonction des autres variables. De même que précédemment, on va construire deux sous-ensembles du jeu de données, l'un avec les mesures pour lesquelles `T9` est initialement observée, l'autre avec les mesures pour lesquelles `T9` est initialement manquante. À partir de quel jeu de données ces deux sous-ensembles sont construits ?"
   ]
  },
  {
   "cell_type": "markdown",
   "metadata": {
    "id": "xFJusR3NH2-H",
    "jp-MarkdownHeadingCollapsed": true
   },
   "source": [
    "### Solution"
   ]
  },
  {
   "cell_type": "markdown",
   "metadata": {
    "id": "s57jm2ysIA1Y"
   },
   "source": [
    "C'est à partir du jeu de données `ozone.maxO3.imp1` que les deux sous-ensembles sont construits. Pour cette seconde étape, on prend en compte les prédictions déjà effectuées sur la variable `maxO3`.\n",
    "\n",
    "L'algorithme itère ensuite sur toutes les variables jusqu'à convergence; c'est en cela que cette méthode est itérative."
   ]
  },
  {
   "cell_type": "markdown",
   "metadata": {
    "id": "3Pw-fCaCJMCx"
   },
   "source": [
    "## Question 7: application de l'algorithme"
   ]
  },
  {
   "cell_type": "markdown",
   "metadata": {
    "id": "MDwCWeUuJPqQ"
   },
   "source": [
    "Cette méthode d'imputation est implémentée dans la fonction `missForest` du package `missForest`. Le code suivant permet d'obtenir un jeu de données complet."
   ]
  },
  {
   "cell_type": "code",
   "execution_count": null,
   "metadata": {
    "id": "CYSkl668JwQB"
   },
   "outputs": [],
   "source": [
    "ozone.addNA.forest <- missForest(ozone.addNA, maxiter = 10, ntree = 100)$ximp"
   ]
  },
  {
   "cell_type": "markdown",
   "metadata": {
    "id": "ySE1bkh9KRd4"
   },
   "source": [
    "Le graphique ci-dessous représente le nuage de points des valeurs (observées et imputées) pour les variables `T12` et `T15`."
   ]
  },
  {
   "cell_type": "code",
   "execution_count": null,
   "metadata": {
    "id": "svG-OUfVKAXi"
   },
   "outputs": [],
   "source": [
    "mask <- is.na(ozone.addNA)\n",
    "\n",
    "plot(ozone.addNA$T12, ozone.addNA$T15, col = \"#d1e5f0\", xlab = \"T12\", ylab = \"T15\")\n",
    "points(ozone.addNA.forest$T12[mask[, 3] == 1], ozone.addNA.forest$T15[mask[, 3] == 1], col = \"#2194ac\")\n",
    "points(ozone.addNA.forest$T12[mask[, 4] == 1], ozone.addNA.forest$T15[mask[, 4] == 1], col = \"#2138ac\")\n",
    "points(ozone.addNA.forest$T12[mask[, 3] == 1 & mask[, 4] == 1], ozone.addNA.forest$T15[mask[, 3] == 1 & mask[, 4] == 1], col = \"#ac6721\")\n",
    "\n",
    "legend(\"bottomright\",\n",
    "       legend = c(\"Complet\", \"X0 imputé\", \"X1 imputé\", \"X0,X1 imputés\"),\n",
    "       col = c(\"#d1e5f0\", \"#2194ac\", \"#2138ac\", \"#ac6721\"),\n",
    "       pch = 16,\n",
    "       bty = \"n\"\n",
    ")"
   ]
  },
  {
   "cell_type": "markdown",
   "metadata": {
    "id": "8c4qwsp0Kylk"
   },
   "source": [
    "L'erreur quadratique moyenne est calculée ci-dessous."
   ]
  },
  {
   "cell_type": "code",
   "execution_count": null,
   "metadata": {
    "id": "FVOGxeI3K-T2"
   },
   "outputs": [],
   "source": [
    "mse(ozone, ozone.addNA.forest) # EQM de l'imputation par forêts aléatoires"
   ]
  },
  {
   "cell_type": "markdown",
   "metadata": {
    "id": "oUTKP30QLVL3"
   },
   "source": [
    "Comparez avec les résultats obtenus par l'imputation avec l'algorithme des $k$-plus-proches-voisins."
   ]
  },
  {
   "cell_type": "markdown",
   "metadata": {
    "id": "vp2pBXc6LztH",
    "jp-MarkdownHeadingCollapsed": true
   },
   "source": [
    "### Solution"
   ]
  },
  {
   "cell_type": "markdown",
   "metadata": {
    "id": "CMdAXCOOL18t"
   },
   "source": [
    "L'erreur quadratique moyenne est largement plus faible avec cette méthode d'imputation. Cela peut s'expliquer par le fait qu'elle tient mieux compte des relations entre les variables, en construisant un modèle de prédiction par variable, en fonction des autres. L'utilisation des forêts aléatoires est aussi un outil puissant pour construire des modèles flexibles et complexes (par exemple, la relation entre les variables n'est pas restreinte à une relation linéaire). L'imputation avec l'algorithme des $k$-plus-proches-voisins n'utilise que des aggrégations des valeurs des données."
   ]
  },
  {
   "cell_type": "markdown",
   "metadata": {
    "id": "4yHOCak44yNd"
   },
   "source": [
    "# Analyse en composantes principales en présence de `NA`"
   ]
  },
  {
   "cell_type": "markdown",
   "metadata": {
    "id": "VqBhkV_QckqQ"
   },
   "source": [
    "Une autre méthode d'imputation est basée sur l'Analyse en Composantes Principales (ACP). Elle permet de (i) représenter les données dans un espace de dimension réduite, et (ii) de prédire les valeurs manquantes à partir de cette nouvelle représentation.\n",
    "\n",
    "On peut utiliser le package `missMDA`."
   ]
  },
  {
   "cell_type": "markdown",
   "metadata": {
    "id": "rVzadbvINykl"
   },
   "source": [
    "## Question 8"
   ]
  },
  {
   "cell_type": "markdown",
   "metadata": {
    "id": "U5LvNBFxoXWK"
   },
   "source": [
    "Selon vous, quel est l'hyperparamètre principal de l'algorithme pour obtenir un espace de dimension réduite ?"
   ]
  },
  {
   "cell_type": "markdown",
   "metadata": {
    "id": "6BljS7TjcLh6",
    "jp-MarkdownHeadingCollapsed": true
   },
   "source": [
    "### Solution"
   ]
  },
  {
   "cell_type": "markdown",
   "metadata": {
    "id": "c1jjR_dEcN6l"
   },
   "source": [
    "Dans cette méthode d'imputation, l'hyperparamètre principal est la dimension de l'espace réduit dans lequel sont représentées les données, c'est-à-dire le nombre de composantes principales de l'ACP. Il existe une fonction `estim_ncpPCA` qui permet d'effectuer une validation croisée pour estimer ce paramètre."
   ]
  },
  {
   "cell_type": "code",
   "execution_count": null,
   "metadata": {
    "id": "AHLjzAMAb5YA"
   },
   "outputs": [],
   "source": [
    "nb.comp.quant <- estim_ncpPCA(ozone.addNA, ncp.max = 11)\n",
    "nb.comp.quant$ncp"
   ]
  },
  {
   "cell_type": "markdown",
   "metadata": {
    "id": "c0ErkPUzc3p-"
   },
   "source": [
    "La fonction `imputePCA` permet d'obtenir un jeu de données complet. On calcule ensuite l'erreur quadratique moyenne, qui est comparable à celle obtenue avec la méthode d'imputation basée sur des forêts aléatoires."
   ]
  },
  {
   "cell_type": "code",
   "execution_count": null,
   "metadata": {
    "id": "Z0L9l7jQb7fq"
   },
   "outputs": [],
   "source": [
    "res.comp.quant <- imputePCA(ozone.addNA, ncp = nb.comp.quant$ncp)\n",
    "ozone.addNA.PCA <- res.comp.quant$completeObs\n",
    "head(ozone.addNA.PCA)"
   ]
  },
  {
   "cell_type": "code",
   "execution_count": null,
   "metadata": {
    "id": "-dZO8dsFb9-9"
   },
   "outputs": [],
   "source": [
    "mse(ozone, ozone.addNA.PCA)"
   ]
  },
  {
   "cell_type": "markdown",
   "metadata": {
    "id": "93a3odMLNz1E"
   },
   "source": [
    "## Question 9"
   ]
  },
  {
   "cell_type": "markdown",
   "metadata": {
    "id": "GkKwevcGcV3Y"
   },
   "source": [
    "Vous pouvez aussi obtenir une représentation des données dans l'espace de dimension réduite estimé par l'ACP.\n",
    "\n",
    "Le graphique suivant est le cercle des corrélations des variables avec les deux premières composantes\n",
    "principales. On peut y lire comment chaque variable intervient dans les différentes composantes estimées par l'ACP:\n",
    "\n",
    "* Plus une variable est proche d’un axe, plus elle a été utilisée pour construire cette composante principale de l'ACP.\n",
    "\n",
    "* Plus la flèche est longue, plus elle a eu un poids important.\n",
    "\n",
    "On peut aussi y lire les corrélations entre les variables:\n",
    "\n",
    "* Plus deux variables sont corrélées, plus leurs flèches pointent dans la même direction (l'angle entre les flèches de ces deux variables est petit)."
   ]
  },
  {
   "cell_type": "code",
   "execution_count": null,
   "metadata": {
    "id": "I3W4EM_dcBC1"
   },
   "outputs": [],
   "source": [
    " res.pca <- PCA(res.comp.quant$completeObs)"
   ]
  },
  {
   "cell_type": "markdown",
   "metadata": {
    "id": "VtssVIl8lj-w"
   },
   "source": [
    "Interprétez le graphique."
   ]
  },
  {
   "cell_type": "markdown",
   "metadata": {
    "id": "g9fwVptachEd",
    "jp-MarkdownHeadingCollapsed": true
   },
   "source": [
    "### Solution"
   ]
  },
  {
   "cell_type": "markdown",
   "metadata": {
    "id": "5C2oX-d1ciB1"
   },
   "source": [
    "La première composante principale de l'ACP semble très reliée aux mesures de nébulosité, tandis que la deuxième composante principale semble construite en utilisant un mixte de toutes les autres variables.\n",
    "\n",
    "Les variables de nébulosité sont très corrélées entre elles, de même que les variables de vent, ainsi que les variables de températures avec le maximum d'ozone."
   ]
  },
  {
   "cell_type": "markdown",
   "metadata": {
    "id": "6WprsQlB5F5G"
   },
   "source": [
    "# Méthodes d'imputation sur données mixtes"
   ]
  },
  {
   "cell_type": "markdown",
   "metadata": {
    "id": "0LfwPOrINVJE"
   },
   "source": [
    "Les trois méthodes d'imputation vues précédemment sont directement applicables sur un jeu de données mixte, qui comprend à la fois des variables continues et catégorielles. Dans cette dernière partie, vous allez appliquer des méthodes d'imputation au jeu de données `ozone` entier, qui comprend deux variables catégorielles (`vent` et `pluie`)."
   ]
  },
  {
   "cell_type": "code",
   "execution_count": null,
   "metadata": {
    "id": "VRL0vz6dOg0J"
   },
   "outputs": [],
   "source": [
    "ozone.addNA.mixt <- ozone.addNA\n",
    "ozone.addNA.mixt['vent'] <- ozone.mixt$vent\n",
    "ozone.addNA.mixt['pluie'] <- ozone.mixt$pluie\n",
    "head(ozone.addNA.mixt)"
   ]
  },
  {
   "cell_type": "markdown",
   "metadata": {
    "id": "zbKQWuGONvO5"
   },
   "source": [
    "## Question 10"
   ]
  },
  {
   "cell_type": "markdown",
   "metadata": {
    "id": "O3ZcWm8UNxa3"
   },
   "source": [
    "Pour la méthode d'imputation par l'algorithme des $k$ plus proches voisins, quelle est la difficulté dans le cas d'un jeu de données mixte ?"
   ]
  },
  {
   "cell_type": "markdown",
   "metadata": {
    "id": "XmvepUljPqWW",
    "jp-MarkdownHeadingCollapsed": true
   },
   "source": [
    "### Solution"
   ]
  },
  {
   "cell_type": "markdown",
   "metadata": {
    "id": "vL20GGzJPreo"
   },
   "source": [
    "L'algorithme des $k$ plus proches voisins calcule une distance entre des points. La distance euclidienne que vous avez utilisé en question 4 ne fait plus sens s'il y a des variables catégorielles. Dans la fonction `kNN` du package `VIM`, la distance de Gower est utilisée ([lien wikipédia](https://en.wikipedia.org/wiki/Gower%27s_distance) pour plus de détails sur cette distance). Elle permet de mesurer la distance de deux objets mixtes."
   ]
  },
  {
   "cell_type": "markdown",
   "metadata": {
    "id": "QUtAE3vNPGZX"
   },
   "source": [
    "Pour la méthode d'imputation basée sur des forêts aléatoires, l'avantage est qu'elle est très flexible, puisque un modèle est appris par variable. On peut directement utiliser la fonction `missForest`.\n",
    "\n",
    "Enfin, pour l'analyse en composantes principales, il existe la fonction `imputeFAMD` pour les jeux de données mixtes du package `missMDA`."
   ]
  },
  {
   "cell_type": "markdown",
   "metadata": {
    "id": "M_SPjohnR9-R"
   },
   "source": [
    "Pour obtenir un jeu de données complet, voici les implémentations des différentes méthodes, lorsque toutes les variables sont considérées. Les erreurs quadratiques moyennes ne sont calculées que pour les variables continues."
   ]
  },
  {
   "cell_type": "code",
   "execution_count": null,
   "metadata": {
    "id": "co8yjefjR13Y"
   },
   "outputs": [],
   "source": [
    "# imputation par plus proches voisins\n",
    "ozone.addNA.mixt.kNN <- kNN(ozone.addNA.mixt, k = 15, imp_var = FALSE)\n",
    "\n",
    "# erreur quadratique moyenne\n",
    "mse(ozone.mixt[, 1:11], ozone.addNA.mixt.kNN[, 1:11])"
   ]
  },
  {
   "cell_type": "code",
   "execution_count": null,
   "metadata": {
    "id": "4C7rSGOGUCWS"
   },
   "outputs": [],
   "source": [
    "# imputation par forêts aléatoires\n",
    "ozone.addNA.mixt.forest <- missForest(ozone.addNA.mixt, maxiter = 10, ntree = 100)$ximp\n",
    "\n",
    "# erreur quadratique moyenne\n",
    "mse(ozone.mixt[, 1:11], ozone.addNA.mixt.forest[, 1:11])"
   ]
  },
  {
   "cell_type": "code",
   "execution_count": null,
   "metadata": {
    "id": "kwxkw3KjT6eI"
   },
   "outputs": [],
   "source": [
    "# imputation par analyse en composantes principales (mixte)\n",
    "nb.comp.mixt <- estim_ncpFAMD(ozone.addNA.mixt, ncp.max = 13)\n",
    "res.comp.mixt <- imputeFAMD(ozone.addNA.mixt, ncp = nb.comp.mixt$ncp)\n",
    "ozone.addNA.mixt.FAMD <- res.comp.mixt$completeObs\n",
    "\n",
    "# erreur quadratique moyenne\n",
    "mse(ozone[, 1:11], ozone.addNA.mixt.FAMD[, 1:11])\n",
    "\n",
    "# représentation graphique\n",
    "res.afdm <- FAMD(ozone.addNA.mixt, tab.disj = res.comp.mixt$tab.disj)"
   ]
  }
 ],
 "metadata": {
  "colab": {
   "authorship_tag": "ABX9TyMHz3AUt3S5MRW9Gm6XoqD/",
   "collapsed_sections": [
    "DvG4G3QL-Ivd",
    "EJH6ogsT65-R",
    "FiIQ5UWfBMip",
    "WsmKkU63vSMF",
    "g1bALWNBHQ67",
    "Os_pLHc1Ldk9",
    "6s-N7VDRD7mo",
    "xFJusR3NH2-H",
    "vp2pBXc6LztH",
    "6BljS7TjcLh6",
    "g9fwVptachEd",
    "XmvepUljPqWW"
   ],
   "provenance": [],
   "toc_visible": true
  },
  "kernelspec": {
   "display_name": "R",
   "name": "ir"
  },
  "language_info": {
   "name": "R"
  }
 },
 "nbformat": 4,
 "nbformat_minor": 4
}
